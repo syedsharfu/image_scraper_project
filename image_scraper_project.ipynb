{
 "cells": [
  {
   "cell_type": "code",
   "execution_count": 32,
   "id": "66415fdf-0a85-427e-bf13-097e792b2e7d",
   "metadata": {},
   "outputs": [],
   "source": [
    "import requests\n",
    "import logging\n",
    "import os\n",
    "from bs4 import BeautifulSoup\n",
    "from urllib.request import urlopen"
   ]
  },
  {
   "cell_type": "code",
   "execution_count": 33,
   "id": "36c3ed66-acbe-4a46-af52-c84cee0d4745",
   "metadata": {},
   "outputs": [],
   "source": [
    "save_dir=\"images/\"\n",
    "if not os.path.exists(save_dir):\n",
    "    os.makedirs(save_dir)"
   ]
  },
  {
   "cell_type": "code",
   "execution_count": 46,
   "id": "3bce5b70-2ed0-4c07-9c6d-3efdd2af3bbb",
   "metadata": {},
   "outputs": [],
   "source": [
    "query=\"salman Khan\"\n",
    "#url=https://www.google.com/search?q=query&sca_esv=587298166&tbm=isch&sxsrf=AM9HkKnJJ3NXLCP3_PLupIcIWyi8mC1MVQ:1701527759596&source=lnms&sa=X&ved=2ahUKEwjmqL7t_PCCAxWcxzgGHS02AgAQ_AUoAnoECAMQBA&biw=1083&bih=694&dpr=1.25"
   ]
  },
  {
   "cell_type": "code",
   "execution_count": 47,
   "id": "c9ed30e1-e701-404b-a348-486049f0caf6",
   "metadata": {},
   "outputs": [],
   "source": [
    "response=requests.get(f\"https://www.google.com/search?q={query}&sca_esv=587298166&tbm=isch&sxsrf=AM9HkKnJJ3NXLCP3_PLupIcIWyi8mC1MVQ:1701527759596&source=lnms&sa=X&ved=2ahUKEwjmqL7t_PCCAxWcxzgGHS02AgAQ_AUoAnoECAMQBA&biw=1083&bih=694&dpr=1.25\")"
   ]
  },
  {
   "cell_type": "code",
   "execution_count": 48,
   "id": "c161dafe-f4a2-46d3-80cc-f2771b528ab4",
   "metadata": {},
   "outputs": [
    {
     "data": {
      "text/plain": [
       "<Response [200]>"
      ]
     },
     "execution_count": 48,
     "metadata": {},
     "output_type": "execute_result"
    }
   ],
   "source": [
    "response"
   ]
  },
  {
   "cell_type": "code",
   "execution_count": 49,
   "id": "3e13f0ea-e6c1-439c-abf6-a75bea508ba7",
   "metadata": {},
   "outputs": [],
   "source": [
    "soup=BeautifulSoup(response.content,\"html.parser\")"
   ]
  },
  {
   "cell_type": "code",
   "execution_count": 50,
   "id": "e3d72a85-4f43-475d-84d4-97be12e3ded0",
   "metadata": {},
   "outputs": [
    {
     "data": {
      "text/plain": [
       "<!DOCTYPE html PUBLIC \"-//WAPFORUM//DTD XHTML Mobile 1.0//EN\" \"http://www.wapforum.org/DTD/xhtml-mobile10.dtd\">\n",
       "<html lang=\"en-IN\" xmlns=\"http://www.w3.org/1999/xhtml\"><head><meta content=\"application/xhtml+xml; charset=utf-8\" http-equiv=\"Content-Type\"/><meta content=\"no-cache\" name=\"Cache-Control\"/><title>salman Khan - Google Search</title><style>a{text-decoration:none;color:inherit}a:hover{text-decoration:underline}a img{border:0}body{font-family:arial,sans-serif;padding:8px;margin:0 auto;max-width:700px;min-width:240px;}.FbhRzb{border-left:thin solid #dadce0;border-right:thin solid #dadce0;border-top:thin solid #dadce0;height:40px;overflow:hidden}.n692Zd{margin-bottom:10px}.cvifge{height:40px;border-spacing:0}.QvGUP{height:40px;padding:0 8px 0 8px;vertical-align:top}.O4cRJf{height:40px;width:100%;padding:0;padding-right:16px}.O1ePr{height:40px;padding:0;vertical-align:top}.kgJEQe{height:36px;width:98px;vertical-align:top;margin-top:4px}.lXLRf{vertical-align:top}.MhzMZd{border:0;vertical-align:middle;font-size:14px;height:40px;padding:0;width:100%;padding-left:16px}.xB0fq{height:40px;border:none;font-size:14px;background-color:#1a73e8;color:#fff;padding:0 16px;margin:0;vertical-align:top;cursor:pointer}.xB0fq:focus{border:1px solid #1a73e8}.M7pB2{border:thin solid #dadce0;margin:0 0 3px 0;font-size:13px;font-weight:500;height:40px}.euZec{width:100%;height:40px;text-align:center;border-spacing:0}table.euZec td{padding:0;width:25%}.QIqI7{display:inline-block;padding-top:4px;font-weight:bold;color:#4285f4}.EY24We{border-bottom:2px solid #4285f4}.CsQyDc{display:inline-block;color:#70757a}.TuS8Ad{font-size:14px}.HddGcc{padding:8px;color:#70757a}.dzp8ae{font-weight:bold;color:#3c4043}.rEM8G{color:#70757a}.bookcf{table-layout:fixed;width:100%;border-spacing:0}.InWNIe{text-align:center}.uZgmoc{border:thin solid #dadce0;color:#70757a;font-size:14px;text-align:center;table-layout:fixed;width:100%}.frGj1b{display:block;padding:12px 0 12px 0;width:100%}.BnJWBc{text-align:center;padding:6px 0 13px 0;height:35px}.e3goi{vertical-align:top;padding:0;height:180px}.GpQGbf{margin:auto;border-collapse:collapse;border-spacing:0;width:100%}</style></head><body><style>.X6ZCif{color:#202124;font-size:11px;line-height:16px;display:inline-block;padding-top:2px;overflow:hidden;padding-bottom:4px;width:100%}.TwVfHd{border-radius:16px;border:thin solid #dadce0;display:inline-block;padding:8px 8px;margin-right:8px;margin-bottom:4px}.yekiAe{background-color:#dadce0}.jjVJ4e{width:100%}.ezO2md{border:thin solid #dadce0;padding:12px 16px 12px 16px;margin-bottom:10px;font-family:arial,sans-serif}.lIMUZd{font-family:arial,sans-serif}.RntSmf{border-spacing:0}.lgD2Tc{width:100%}.SpelHe{text-align:center}.SpelHe{position:relative}.deHqpb{bottom:0;left:0;margin:auto;position:absolute;right:0;top:0}.kCmkOe{position:relative}.ID6Z3b{background-image:url(https://www.gstatic.com/search_trustx/visibility_off_icon_p0-7d897bf44bafe5436baa9009e8716337.png);background-repeat:no-repeat;background-position:center;background-size:20px}.kCmkOe{width:162px;height:140px;line-height:140px;overflow:'hidden';text-align:center}.DS1iW{text-align:center;margin:auto;vertical-align:middle;max-width:162px;max-height:140px}.AlD19d{padding-top:2px;padding-bottom:8px;}.fYyStc{word-break:break-word}.ynsChf{display:block;white-space:nowrap;overflow:hidden;text-overflow:ellipsis}.Fj3V3b{color:#1967d2;font-size:14px;line-height:20px}.FrIlee{color:#202124;font-size:11px;line-height:16px}.F9iS2e{color:#70757a;font-size:11px;line-height:16px}.WMQ2Le{color:#70757a;font-size:12px;line-height:16px}.x3G5ab{color:#202124;font-size:12px;line-height:16px}.fuLhoc{color:#1967d2;font-size:16px;line-height:20px}.epoveb{font-size:24px;line-height:28px;font-weight:400;color:#202124}.dXDvrc{color:#0d652d;font-size:14px;line-height:20px;word-wrap:break-word}.dloBPe{font-weight:bold}.YVIcad{color:#70757a}.JkVVdd{color:#ea4335}.oXZRFd{color:#ea4335}.MQHtg{color:#fbbc04}.pyMRrb{color:#1e8e3e}.EtTZid{color:#1e8e3e}.M3vVJe{color:#1967d2}.qXLe6d{display:block}.NHQNef{font-style:italic}.Cb8Z7c{white-space:pre}a.ZWRArf{text-decoration:none}a .CVA68e:hover{text-decoration:underline}</style><div class=\"n692Zd\"><div class=\"BnJWBc\"><a class=\"lXLRf\" href=\"/?sa=X&amp;sca_esv=587298166&amp;biw=1083&amp;bih=694&amp;output=images&amp;ie=UTF-8&amp;tbm=isch&amp;ved=0ahUKEwjZiKqYivGCAxVJRmwGHfERCUEQPAgC\"><img alt=\"Google\" class=\"kgJEQe\" src=\"/images/branding/searchlogo/1x/googlelogo_desk_heirloom_color_150x55dp.gif\"/></a></div><div class=\"FbhRzb\"><form action=\"/search\"><input name=\"sca_esv\" type=\"hidden\" value=\"587298166\"/><input name=\"biw\" type=\"hidden\" value=\"1083\"/><input name=\"bih\" type=\"hidden\" value=\"694\"/><input name=\"ie\" type=\"hidden\" value=\"ISO-8859-1\"/><input name=\"tbm\" type=\"hidden\" value=\"isch\"/><input name=\"oq\" type=\"hidden\"/><input name=\"aqs\" type=\"hidden\"/><table class=\"cvifge\"><tr><td class=\"O4cRJf\"><input class=\"MhzMZd\" name=\"q\" type=\"text\" value=\"salman Khan\"/></td><td class=\"O1ePr\"><input class=\"xB0fq\" type=\"submit\" value=\"Search\"/></td></tr></table></form></div><div class=\"M7pB2\"><table class=\"euZec\"><tbody><tr><td><a class=\"CsQyDc\" href=\"/search?q=salman+Khan&amp;sca_esv=587298166&amp;biw=1083&amp;bih=694&amp;ie=UTF-8&amp;source=lnms&amp;sa=X&amp;ved=0ahUKEwjZiKqYivGCAxVJRmwGHfERCUEQ_AUIBCgA\">ALL</a></td><td><a class=\"CsQyDc\" href=\"/search?q=salman+Khan&amp;sca_esv=587298166&amp;biw=1083&amp;bih=694&amp;ie=UTF-8&amp;tbm=nws&amp;source=lnms&amp;sa=X&amp;ved=0ahUKEwjZiKqYivGCAxVJRmwGHfERCUEQ_AUIBSgB\">NEWS</a></td><td class=\"EY24We\"><span class=\"QIqI7\">IMAGES</span></td><td><a class=\"CsQyDc\" href=\"/search?q=salman+Khan&amp;sca_esv=587298166&amp;biw=1083&amp;bih=694&amp;ie=UTF-8&amp;tbm=vid&amp;source=lnms&amp;sa=X&amp;ved=0ahUKEwjZiKqYivGCAxVJRmwGHfERCUEQ_AUIBygD\">VIDEOS</a></td></tr></tbody></table></div></div><div class=\"X6ZCif\"><a class=\"TwVfHd\" href=\"/search?sca_esv=587298166&amp;biw=1083&amp;bih=694&amp;ie=UTF-8&amp;tbm=isch&amp;q=salman+Khan&amp;chips=q:salman+khan,g_1:wallpaper&amp;sa=X&amp;ved=0ahUKEwjZiKqYivGCAxVJRmwGHfERCUEQ4lYICygA\">wallpaper</a><a class=\"TwVfHd\" href=\"/search?sca_esv=587298166&amp;biw=1083&amp;bih=694&amp;ie=UTF-8&amp;tbm=isch&amp;q=salman+Khan&amp;chips=q:salman+khan,g_1:new&amp;sa=X&amp;ved=0ahUKEwjZiKqYivGCAxVJRmwGHfERCUEQ4lYIDCgB\">new</a><a class=\"TwVfHd\" href=\"/search?sca_esv=587298166&amp;biw=1083&amp;bih=694&amp;ie=UTF-8&amp;tbm=isch&amp;q=salman+Khan&amp;chips=q:salman+khan,g_1:hairstyle&amp;sa=X&amp;ved=0ahUKEwjZiKqYivGCAxVJRmwGHfERCUEQ4lYIDSgC\">hairstyle</a><a class=\"TwVfHd\" href=\"/search?sca_esv=587298166&amp;biw=1083&amp;bih=694&amp;ie=UTF-8&amp;tbm=isch&amp;q=salman+Khan&amp;chips=q:salman+khan,g_1:sultan&amp;sa=X&amp;ved=0ahUKEwjZiKqYivGCAxVJRmwGHfERCUEQ4lYIDigD\">sultan</a><a class=\"TwVfHd\" href=\"/search?sca_esv=587298166&amp;biw=1083&amp;bih=694&amp;ie=UTF-8&amp;tbm=isch&amp;q=salman+Khan&amp;chips=q:salman+khan,g_1:old&amp;sa=X&amp;ved=0ahUKEwjZiKqYivGCAxVJRmwGHfERCUEQ4lYIDygE\">old</a><a class=\"TwVfHd\" href=\"/search?sca_esv=587298166&amp;biw=1083&amp;bih=694&amp;ie=UTF-8&amp;tbm=isch&amp;q=salman+Khan&amp;chips=q:salman+khan,g_1:bodyguard&amp;sa=X&amp;ved=0ahUKEwjZiKqYivGCAxVJRmwGHfERCUEQ4lYIECgF\">bodyguard</a><a class=\"TwVfHd\" href=\"/search?sca_esv=587298166&amp;biw=1083&amp;bih=694&amp;ie=UTF-8&amp;tbm=isch&amp;q=salman+Khan&amp;chips=q:salman+khan,g_1:style&amp;sa=X&amp;ved=0ahUKEwjZiKqYivGCAxVJRmwGHfERCUEQ4lYIESgG\">style</a><a class=\"TwVfHd\" href=\"/search?sca_esv=587298166&amp;biw=1083&amp;bih=694&amp;ie=UTF-8&amp;tbm=isch&amp;q=salman+Khan&amp;chips=q:salman+khan,g_1:eid+mubarak&amp;sa=X&amp;ved=0ahUKEwjZiKqYivGCAxVJRmwGHfERCUEQ4lYIEigH\">eid mubarak</a><a class=\"TwVfHd\" href=\"/search?sca_esv=587298166&amp;biw=1083&amp;bih=694&amp;ie=UTF-8&amp;tbm=isch&amp;q=salman+Khan&amp;chips=q:salman+khan,g_1:house&amp;sa=X&amp;ved=0ahUKEwjZiKqYivGCAxVJRmwGHfERCUEQ4lYIEygI\">house</a><a class=\"TwVfHd\" href=\"/search?sca_esv=587298166&amp;biw=1083&amp;bih=694&amp;ie=UTF-8&amp;tbm=isch&amp;q=salman+Khan&amp;chips=q:salman+khan,g_1:movie&amp;sa=X&amp;ved=0ahUKEwjZiKqYivGCAxVJRmwGHfERCUEQ4lYIFCgJ\">movie</a></div><div><table class=\"GpQGbf\"><tr><td align=\"center\" class=\"e3goi\"><div class=\"jjVJ4e\"> <div> <div class=\"lIMUZd\"><div><table class=\"RntSmf\"><tr><td><a href=\"/url?q=https://news.abplive.com/entertainment/celebrities/salman-khan-receives-fresh-threats-on-social-media-actor-security-has-been-reviewed-1645917&amp;sa=U&amp;ved=2ahUKEwjZiKqYivGCAxVJRmwGHfERCUEQqoUBegQICBAB&amp;usg=AOvVaw1SevMxC7SNl_-L40kRR_BH\"><div class=\"kCmkOe\"><img alt=\"\" class=\"DS1iW\" src=\"https://encrypted-tbn0.gstatic.com/images?q=tbn:ANd9GcSbsz1-RGb3e9PZemgOYkTW4jzmy4fwpDtMgvW93Qs_wAkbhHHfbUt7erMsF4w&amp;s\"/></div></a></td></tr><tr><td><a href=\"/url?q=https://news.abplive.com/entertainment/celebrities/salman-khan-receives-fresh-threats-on-social-media-actor-security-has-been-reviewed-1645917&amp;sa=U&amp;ved=2ahUKEwjZiKqYivGCAxVJRmwGHfERCUEQr4kDegQICBAC&amp;usg=AOvVaw3zGJ6KiyHasyYeSx25i38m\"><div class=\"AlD19d\"> <span class=\"qXLe6d x3G5ab\"> <span class=\"fYyStc\">Salman Khan Receives Fresh...</span> </span> <span class=\"qXLe6d F9iS2e\"> <span class=\"fYyStc\">news.abplive.com</span> </span> </div></a></td></tr></table></div></div> </div> </div></td><td align=\"center\" class=\"e3goi\"><div class=\"jjVJ4e\"> <div> <div class=\"lIMUZd\"><div><table class=\"RntSmf\"><tr><td><a href=\"/url?q=https://www.hindustantimes.com/entertainment/bollywood/salman-khan-on-90s-actors-shah-rukh-khan-ajay-devgn-sunny-deol-longevity-101701151947389.html&amp;sa=U&amp;ved=2ahUKEwjZiKqYivGCAxVJRmwGHfERCUEQqoUBegQIEhAB&amp;usg=AOvVaw0BeOg_ngjeAEqZGZNGduuS\"><div class=\"kCmkOe\"><img alt=\"\" class=\"DS1iW\" src=\"https://encrypted-tbn0.gstatic.com/images?q=tbn:ANd9GcRMkQKi5QUhtQkWbcGZF6VxqT6zh6XGLmKxJFhRxjcLmrb0y2cQT5v6anb0bg&amp;s\"/></div></a></td></tr><tr><td><a href=\"/url?q=https://www.hindustantimes.com/entertainment/bollywood/salman-khan-on-90s-actors-shah-rukh-khan-ajay-devgn-sunny-deol-longevity-101701151947389.html&amp;sa=U&amp;ved=2ahUKEwjZiKqYivGCAxVJRmwGHfERCUEQr4kDegQIEhAC&amp;usg=AOvVaw0jOyL0aeQxwyyMPpjCX45T\"><div class=\"AlD19d\"> <span class=\"qXLe6d x3G5ab\"> <span class=\"fYyStc\">Salman Khan says 90s actors...</span> </span> <span class=\"qXLe6d F9iS2e\"> <span class=\"fYyStc\">www.hindustantimes.com</span> </span> </div></a></td></tr></table></div></div> </div> </div></td><td align=\"center\" class=\"e3goi\"><div class=\"jjVJ4e\"> <div> <div class=\"lIMUZd\"><div><table class=\"RntSmf\"><tr><td><a href=\"/url?q=https://www.imdb.com/name/nm0006795/&amp;sa=U&amp;ved=2ahUKEwjZiKqYivGCAxVJRmwGHfERCUEQqoUBegQIExAB&amp;usg=AOvVaw30tl03zn41kYVa43s3KpOr\"><div class=\"kCmkOe\"><img alt=\"\" class=\"DS1iW\" src=\"https://encrypted-tbn0.gstatic.com/images?q=tbn:ANd9GcQsPJlmB541FlXqTl6rCvD33NhUIj0Myk9e4PujbsHZd7vp5QsNLg9tna6GYxs&amp;s\"/></div></a></td></tr><tr><td><a href=\"/url?q=https://www.imdb.com/name/nm0006795/&amp;sa=U&amp;ved=2ahUKEwjZiKqYivGCAxVJRmwGHfERCUEQr4kDegQIExAC&amp;usg=AOvVaw0iaS0LlAzp04fpaaxHYqOp\"><div class=\"AlD19d\"> <span class=\"qXLe6d x3G5ab\"> <span class=\"fYyStc\">Salman Khan - IMDb</span> </span> <span class=\"qXLe6d F9iS2e\"> <span class=\"fYyStc\">www.imdb.com</span> </span> </div></a></td></tr></table></div></div> </div> </div></td><td align=\"center\" class=\"e3goi\"><div class=\"jjVJ4e\"> <div> <div class=\"lIMUZd\"><div><table class=\"RntSmf\"><tr><td><a href=\"/url?q=https://en.wikipedia.org/wiki/Salman_Khan&amp;sa=U&amp;ved=2ahUKEwjZiKqYivGCAxVJRmwGHfERCUEQqoUBegQIDhAB&amp;usg=AOvVaw0QkrLarGu9QJJDqQ253bzl\"><div class=\"kCmkOe\"><img alt=\"\" class=\"DS1iW\" src=\"https://encrypted-tbn0.gstatic.com/images?q=tbn:ANd9GcQ8WTughNjj6PIIbV4YZpJLfFDHKG0NmE7IsVYkRRGeqdvzT3Z-AlOSTD-aNQ&amp;s\"/></div></a></td></tr><tr><td><a href=\"/url?q=https://en.wikipedia.org/wiki/Salman_Khan&amp;sa=U&amp;ved=2ahUKEwjZiKqYivGCAxVJRmwGHfERCUEQr4kDegQIDhAC&amp;usg=AOvVaw12EN9l10c7BMSsGpBz9jGq\"><div class=\"AlD19d\"> <span class=\"qXLe6d x3G5ab\"> <span class=\"fYyStc\">Salman Khan - Wikipedia</span> </span> <span class=\"qXLe6d F9iS2e\"> <span class=\"fYyStc\">en.wikipedia.org</span> </span> </div></a></td></tr></table></div></div> </div> </div></td></tr><tr><td align=\"center\" class=\"e3goi\"><div class=\"jjVJ4e\"> <div> <div class=\"lIMUZd\"><div><table class=\"RntSmf\"><tr><td><a href=\"/url?q=https://economictimes.indiatimes.com/magazines/panache/salman-khan-completes-35-years-in-bollywood-thanks-audience-for-their-love/articleshow/103118022.cms&amp;sa=U&amp;ved=2ahUKEwjZiKqYivGCAxVJRmwGHfERCUEQqoUBegQIDxAB&amp;usg=AOvVaw2aNVoz3vZG6dgoGYRUMepw\"><div class=\"kCmkOe\"><img alt=\"\" class=\"DS1iW\" src=\"https://encrypted-tbn0.gstatic.com/images?q=tbn:ANd9GcRQLofYA81BkKDfhFw7aov-SHrJH0oCiDMJgU1uRH1N8lT7PiSpZmEmPXsiui8&amp;s\"/></div></a></td></tr><tr><td><a href=\"/url?q=https://economictimes.indiatimes.com/magazines/panache/salman-khan-completes-35-years-in-bollywood-thanks-audience-for-their-love/articleshow/103118022.cms&amp;sa=U&amp;ved=2ahUKEwjZiKqYivGCAxVJRmwGHfERCUEQr4kDegQIDxAC&amp;usg=AOvVaw3QxspMwvJAiVgmdSbu8hOU\"><div class=\"AlD19d\"> <span class=\"qXLe6d x3G5ab\"> <span class=\"fYyStc\">salman: Salman Khan...</span> </span> <span class=\"qXLe6d F9iS2e\"> <span class=\"fYyStc\">economictimes.indiatimes.co...</span> </span> </div></a></td></tr></table></div></div> </div> </div></td><td align=\"center\" class=\"e3goi\"><div class=\"jjVJ4e\"> <div> <div class=\"lIMUZd\"><div><table class=\"RntSmf\"><tr><td><a href=\"/url?q=https://www.filmfare.com/nostalgia/pics-the-90s-salman-khan-an-epitome-of-rugged-charm-and-undeniable-looks-58676.html&amp;sa=U&amp;ved=2ahUKEwjZiKqYivGCAxVJRmwGHfERCUEQqoUBegQICxAB&amp;usg=AOvVaw2kebOOeXJH9SuLOHN2_Eze\"><div class=\"kCmkOe\"><img alt=\"\" class=\"DS1iW\" src=\"https://encrypted-tbn0.gstatic.com/images?q=tbn:ANd9GcR5WVu02Zxz08ydK5B_I4goFf6oKTm2CUWUqpkMRbdUSp-AkJhlLXMTntQ9XA&amp;s\"/></div></a></td></tr><tr><td><a href=\"/url?q=https://www.filmfare.com/nostalgia/pics-the-90s-salman-khan-an-epitome-of-rugged-charm-and-undeniable-looks-58676.html&amp;sa=U&amp;ved=2ahUKEwjZiKqYivGCAxVJRmwGHfERCUEQr4kDegQICxAC&amp;usg=AOvVaw3v-b2RgFs1CD4aL8mgnTFa\"><div class=\"AlD19d\"> <span class=\"qXLe6d x3G5ab\"> <span class=\"fYyStc\">Pics: The '90s Salman Khan,...</span> </span> <span class=\"qXLe6d F9iS2e\"> <span class=\"fYyStc\">www.filmfare.com</span> </span> </div></a></td></tr></table></div></div> </div> </div></td><td align=\"center\" class=\"e3goi\"><div class=\"jjVJ4e\"> <div> <div class=\"lIMUZd\"><div><table class=\"RntSmf\"><tr><td><a href=\"/url?q=https://www.hindustantimes.com/cities/mumbai-news/salman-khan-gets-fresh-threats-security-reviewed-101701199169191.html&amp;sa=U&amp;ved=2ahUKEwjZiKqYivGCAxVJRmwGHfERCUEQqoUBegQIERAB&amp;usg=AOvVaw0f-8h40ZAeL8ZBEt6R0sns\"><div class=\"kCmkOe\"><img alt=\"\" class=\"DS1iW\" src=\"https://encrypted-tbn0.gstatic.com/images?q=tbn:ANd9GcSASEdHCXblr2sswdeZnBsBT-UFKqLKCKuoU5QSTDL8FoThrLilsvMx_pt4vw&amp;s\"/></div></a></td></tr><tr><td><a href=\"/url?q=https://www.hindustantimes.com/cities/mumbai-news/salman-khan-gets-fresh-threats-security-reviewed-101701199169191.html&amp;sa=U&amp;ved=2ahUKEwjZiKqYivGCAxVJRmwGHfERCUEQr4kDegQIERAC&amp;usg=AOvVaw1U6rnXMaZ869YmLTW3krJp\"><div class=\"AlD19d\"> <span class=\"qXLe6d x3G5ab\"> <span class=\"fYyStc\">Salman Khan gets fresh...</span> </span> <span class=\"qXLe6d F9iS2e\"> <span class=\"fYyStc\">www.hindustantimes.com</span> </span> </div></a></td></tr></table></div></div> </div> </div></td><td align=\"center\" class=\"e3goi\"><div class=\"jjVJ4e\"> <div> <div class=\"lIMUZd\"><div><table class=\"RntSmf\"><tr><td><a href=\"/url?q=https://www.siasat.com/list-of-6-upcoming-movies-of-salman-khan-2919254/&amp;sa=U&amp;ved=2ahUKEwjZiKqYivGCAxVJRmwGHfERCUEQqoUBegQIDBAB&amp;usg=AOvVaw2Jsl76XpSoGNxl_z2Oecqq\"><div class=\"kCmkOe\"><img alt=\"\" class=\"DS1iW\" src=\"https://encrypted-tbn0.gstatic.com/images?q=tbn:ANd9GcTrTuT8LnytB25HrFY4q7j05mU0uMi9Y6C2fijkj_xqkL2Qm6LvzQnyx29l3l8&amp;s\"/></div></a></td></tr><tr><td><a href=\"/url?q=https://www.siasat.com/list-of-6-upcoming-movies-of-salman-khan-2919254/&amp;sa=U&amp;ved=2ahUKEwjZiKqYivGCAxVJRmwGHfERCUEQr4kDegQIDBAC&amp;usg=AOvVaw28SkJAPeQk-4F5Yv2HqlAI\"><div class=\"AlD19d\"> <span class=\"qXLe6d x3G5ab\"> <span class=\"fYyStc\">List of 6 upcoming...</span> </span> <span class=\"qXLe6d F9iS2e\"> <span class=\"fYyStc\">www.siasat.com</span> </span> </div></a></td></tr></table></div></div> </div> </div></td></tr><tr><td align=\"center\" class=\"e3goi\"><div class=\"jjVJ4e\"> <div> <div class=\"lIMUZd\"><div><table class=\"RntSmf\"><tr><td><a href=\"/url?q=https://www.123telugu.com/mnews/salman-khan-blames-ticket-rates-for-the-underperformance-of-his-films.html&amp;sa=U&amp;ved=2ahUKEwjZiKqYivGCAxVJRmwGHfERCUEQqoUBegQIDRAB&amp;usg=AOvVaw3pqWxoyZlB1KVLKpB1hQjr\"><div class=\"kCmkOe\"><img alt=\"\" class=\"DS1iW\" src=\"https://encrypted-tbn0.gstatic.com/images?q=tbn:ANd9GcQrFfTgp4qfKAcAS5M7eDqsyvG_A2AClQ9Xpo1Ef8E51v5Or-0uR0VNc5DxhA&amp;s\"/></div></a></td></tr><tr><td><a href=\"/url?q=https://www.123telugu.com/mnews/salman-khan-blames-ticket-rates-for-the-underperformance-of-his-films.html&amp;sa=U&amp;ved=2ahUKEwjZiKqYivGCAxVJRmwGHfERCUEQr4kDegQIDRAC&amp;usg=AOvVaw25v-24Bxmm4zRTMmnl_-87\"><div class=\"AlD19d\"> <span class=\"qXLe6d x3G5ab\"> <span class=\"fYyStc\">Salman Khan blames ticket...</span> </span> <span class=\"qXLe6d F9iS2e\"> <span class=\"fYyStc\">www.123telugu.com</span> </span> </div></a></td></tr></table></div></div> </div> </div></td><td align=\"center\" class=\"e3goi\"><div class=\"jjVJ4e\"> <div> <div class=\"lIMUZd\"><div><table class=\"RntSmf\"><tr><td><a href=\"/url?q=https://twitter.com/BeingSalmanKhan&amp;sa=U&amp;ved=2ahUKEwjZiKqYivGCAxVJRmwGHfERCUEQqoUBegQIChAB&amp;usg=AOvVaw1sXQGTMQNO2PIeHehUWUT1\"><div class=\"kCmkOe\"><img alt=\"\" class=\"DS1iW\" src=\"https://encrypted-tbn0.gstatic.com/images?q=tbn:ANd9GcSuKzon4oIn7-OSb-9iXx3FqqSwfGoodeTfpwLoBGSEtc6umZV6Y7_C26mJx5c&amp;s\"/></div></a></td></tr><tr><td><a href=\"/url?q=https://twitter.com/BeingSalmanKhan&amp;sa=U&amp;ved=2ahUKEwjZiKqYivGCAxVJRmwGHfERCUEQr4kDegQIChAC&amp;usg=AOvVaw0jeODZk5bQBEyYzeKv91Ke\"><div class=\"AlD19d\"> <span class=\"qXLe6d x3G5ab\"> <span class=\"fYyStc\">Salman Khan...</span> </span> <span class=\"qXLe6d F9iS2e\"> <span class=\"fYyStc\">twitter.com</span> </span> </div></a></td></tr></table></div></div> </div> </div></td><td align=\"center\" class=\"e3goi\"><div class=\"jjVJ4e\"> <div> <div class=\"lIMUZd\"><div><table class=\"RntSmf\"><tr><td><a href=\"/url?q=https://www.timesnownews.com/entertainment-news/bollywood/exclusive-salman-khan-i-focus-on-my-work-and-avoid-bickering-about-others-article-105432089&amp;sa=U&amp;ved=2ahUKEwjZiKqYivGCAxVJRmwGHfERCUEQqoUBegQICRAB&amp;usg=AOvVaw18fLO9zVGlZXB9ZbWZDALa\"><div class=\"kCmkOe\"><img alt=\"\" class=\"DS1iW\" src=\"https://encrypted-tbn0.gstatic.com/images?q=tbn:ANd9GcSsbLlp_260Fgk2Zp5KKBrBDSyEVT5ikjCr7F9ZuOaFFkcw-HI0I9mbeg3jNVg&amp;s\"/></div></a></td></tr><tr><td><a href=\"/url?q=https://www.timesnownews.com/entertainment-news/bollywood/exclusive-salman-khan-i-focus-on-my-work-and-avoid-bickering-about-others-article-105432089&amp;sa=U&amp;ved=2ahUKEwjZiKqYivGCAxVJRmwGHfERCUEQr4kDegQICRAC&amp;usg=AOvVaw31GlkzH22FKoy6cIig0UhX\"><div class=\"AlD19d\"> <span class=\"qXLe6d x3G5ab\"> <span class=\"fYyStc\">Exclusive! Salman Khan: I...</span> </span> <span class=\"qXLe6d F9iS2e\"> <span class=\"fYyStc\">www.timesnownews.com</span> </span> </div></a></td></tr></table></div></div> </div> </div></td><td align=\"center\" class=\"e3goi\"><div class=\"jjVJ4e\"> <div> <div class=\"lIMUZd\"><div><table class=\"RntSmf\"><tr><td><a href=\"/url?q=https://indianexpress.com/article/entertainment/bollywood/salman-khan-says-people-call-him-a-superstar-because-of-his-arrogant-walk-believes-hes-an-average-bandra-boy-9042878/&amp;sa=U&amp;ved=2ahUKEwjZiKqYivGCAxVJRmwGHfERCUEQqoUBegQIEBAB&amp;usg=AOvVaw2VTKIHydf2fJxDBynXBOZt\"><div class=\"kCmkOe\"><img alt=\"\" class=\"DS1iW\" src=\"https://encrypted-tbn0.gstatic.com/images?q=tbn:ANd9GcRY4j_7Ieu3KSJzC688_SSuFt07U-FlPj9RPezR5QtUBifX7vgjqaMJ_juBew&amp;s\"/></div></a></td></tr><tr><td><a href=\"/url?q=https://indianexpress.com/article/entertainment/bollywood/salman-khan-says-people-call-him-a-superstar-because-of-his-arrogant-walk-believes-hes-an-average-bandra-boy-9042878/&amp;sa=U&amp;ved=2ahUKEwjZiKqYivGCAxVJRmwGHfERCUEQr4kDegQIEBAC&amp;usg=AOvVaw1kutKrJSFW4jKY5Y5orbW9\"><div class=\"AlD19d\"> <span class=\"qXLe6d x3G5ab\"> <span class=\"fYyStc\">Salman Khan says people...</span> </span> <span class=\"qXLe6d F9iS2e\"> <span class=\"fYyStc\">indianexpress.com</span> </span> </div></a></td></tr></table></div></div> </div> </div></td></tr><tr><td align=\"center\" class=\"e3goi\"><div class=\"jjVJ4e\"> <div> <div class=\"lIMUZd\"><div><table class=\"RntSmf\"><tr><td><a href=\"/url?q=https://www.alamy.com/stock-photo/salman-khan.html&amp;sa=U&amp;ved=2ahUKEwjZiKqYivGCAxVJRmwGHfERCUEQqoUBegQIARAB&amp;usg=AOvVaw2jXDxEM0RY0_2GA2A0W-3z\"><div class=\"kCmkOe\"><img alt=\"\" class=\"DS1iW\" src=\"https://encrypted-tbn0.gstatic.com/images?q=tbn:ANd9GcQBqZEKU_lrmUszIClVhEbd5hZkbrUGWGI3pt8arhFqQF4h2eSmPfoOaWoNnHo&amp;s\"/></div></a></td></tr><tr><td><a href=\"/url?q=https://www.alamy.com/stock-photo/salman-khan.html&amp;sa=U&amp;ved=2ahUKEwjZiKqYivGCAxVJRmwGHfERCUEQr4kDegQIARAC&amp;usg=AOvVaw146rnJdsYq9DCGc1WFiVGJ\"><div class=\"AlD19d\"> <span class=\"qXLe6d x3G5ab\"> <span class=\"fYyStc\">Salman khan hi-res stock...</span> </span> <span class=\"qXLe6d F9iS2e\"> <span class=\"fYyStc\">www.alamy.com</span> </span> </div></a></td></tr></table></div></div> </div> </div></td><td align=\"center\" class=\"e3goi\"><div class=\"jjVJ4e\"> <div> <div class=\"lIMUZd\"><div><table class=\"RntSmf\"><tr><td><a href=\"/url?q=https://www.filmcompanion.in/ampstories/web-stories/the-best-performances-of-salman-khan-ranked&amp;sa=U&amp;ved=2ahUKEwjZiKqYivGCAxVJRmwGHfERCUEQqoUBegQIBBAB&amp;usg=AOvVaw13QACzUwtwMD1ilB04rcBE\"><div class=\"kCmkOe\"><img alt=\"\" class=\"DS1iW\" src=\"https://encrypted-tbn0.gstatic.com/images?q=tbn:ANd9GcRHb8uj7oDulIn9AV1wMaCSJebiEdVTnNhgqWjH5XWk8thz29EcB_9iOgWghBc&amp;s\"/></div></a></td></tr><tr><td><a href=\"/url?q=https://www.filmcompanion.in/ampstories/web-stories/the-best-performances-of-salman-khan-ranked&amp;sa=U&amp;ved=2ahUKEwjZiKqYivGCAxVJRmwGHfERCUEQr4kDegQIBBAC&amp;usg=AOvVaw2YzlWcSaxLIBoCm9Wbho0J\"><div class=\"AlD19d\"> <span class=\"qXLe6d x3G5ab\"> <span class=\"fYyStc\">The Best Performances of...</span> </span> <span class=\"qXLe6d F9iS2e\"> <span class=\"fYyStc\">www.filmcompanion.in</span> </span> </div></a></td></tr></table></div></div> </div> </div></td><td align=\"center\" class=\"e3goi\"><div class=\"jjVJ4e\"> <div> <div class=\"lIMUZd\"><div><table class=\"RntSmf\"><tr><td><a href=\"/url?q=https://www.koimoi.com/box-office/tiger-3-box-office-collection-salman-khans-film-is-the-highest-grossing-threequel-ever-beating-aamir-khans-dhoom-3-hrithik-roshans-krrish-3/&amp;sa=U&amp;ved=2ahUKEwjZiKqYivGCAxVJRmwGHfERCUEQqoUBegQIBxAB&amp;usg=AOvVaw0c16CSxEcQlQFhNDsOJX4A\"><div class=\"kCmkOe\"><img alt=\"\" class=\"DS1iW\" src=\"https://encrypted-tbn0.gstatic.com/images?q=tbn:ANd9GcRrE3ggqQf0Dk5Zz67AiF1onqARozMUm44hc92SLCBAQ8bAGTEhqlFiS9sfeA&amp;s\"/></div></a></td></tr><tr><td><a href=\"/url?q=https://www.koimoi.com/box-office/tiger-3-box-office-collection-salman-khans-film-is-the-highest-grossing-threequel-ever-beating-aamir-khans-dhoom-3-hrithik-roshans-krrish-3/&amp;sa=U&amp;ved=2ahUKEwjZiKqYivGCAxVJRmwGHfERCUEQr4kDegQIBxAC&amp;usg=AOvVaw0YQ3mqCuriG0_OzFAzlHeH\"><div class=\"AlD19d\"> <span class=\"qXLe6d x3G5ab\"> <span class=\"fYyStc\">Tiger 3 Box Office...</span> </span> <span class=\"qXLe6d F9iS2e\"> <span class=\"fYyStc\">www.koimoi.com</span> </span> </div></a></td></tr></table></div></div> </div> </div></td><td align=\"center\" class=\"e3goi\"><div class=\"jjVJ4e\"> <div> <div class=\"lIMUZd\"><div><table class=\"RntSmf\"><tr><td><a href=\"/url?q=https://timesofindia.indiatimes.com/life-style/health-fitness/web-stories/at-57-heres-how-superstar-salman-khan-maintains-a-sculpted-body/photostory/97416844.cms&amp;sa=U&amp;ved=2ahUKEwjZiKqYivGCAxVJRmwGHfERCUEQqoUBegQIBRAB&amp;usg=AOvVaw2lWDp_NgsamfU47by5WTSG\"><div class=\"kCmkOe\"><img alt=\"\" class=\"DS1iW\" src=\"https://encrypted-tbn0.gstatic.com/images?q=tbn:ANd9GcQ81VvyCO9semI4_M7yp_fOCQQEDrJ8yxn7nrvEYgB-NmC3LFOZVxlrtmvn9lU&amp;s\"/></div></a></td></tr><tr><td><a href=\"/url?q=https://timesofindia.indiatimes.com/life-style/health-fitness/web-stories/at-57-heres-how-superstar-salman-khan-maintains-a-sculpted-body/photostory/97416844.cms&amp;sa=U&amp;ved=2ahUKEwjZiKqYivGCAxVJRmwGHfERCUEQr4kDegQIBRAC&amp;usg=AOvVaw3hhw1mO1MKjm-k68heYFBY\"><div class=\"AlD19d\"> <span class=\"qXLe6d x3G5ab\"> <span class=\"fYyStc\">At 57, here's how superstar...</span> </span> <span class=\"qXLe6d F9iS2e\"> <span class=\"fYyStc\">timesofindia.indiatimes.com...</span> </span> </div></a></td></tr></table></div></div> </div> </div></td></tr><tr><td align=\"center\" class=\"e3goi\"><div class=\"jjVJ4e\"> <div> <div class=\"lIMUZd\"><div><table class=\"RntSmf\"><tr><td><a href=\"/url?q=https://www.zeebiz.com/web-stories/trending/entertainment/happy-birthday-salman-khan-10-must-watch-movies-of-bhaijaan-bollywood-ek-tha-tiger-bajrangi-bhaijaan-1686389768982&amp;sa=U&amp;ved=2ahUKEwjZiKqYivGCAxVJRmwGHfERCUEQqoUBegQIAhAB&amp;usg=AOvVaw2PHxLZiXlo9KjPRbcVLHJ3\"><div class=\"kCmkOe\"><img alt=\"\" class=\"DS1iW\" src=\"https://encrypted-tbn0.gstatic.com/images?q=tbn:ANd9GcQFK9WTG1XDdWap_7HpvzHMzb85UqaEa24dUD-NcxSzXPdRT9-RGOGAOioCaCc&amp;s\"/></div></a></td></tr><tr><td><a href=\"/url?q=https://www.zeebiz.com/web-stories/trending/entertainment/happy-birthday-salman-khan-10-must-watch-movies-of-bhaijaan-bollywood-ek-tha-tiger-bajrangi-bhaijaan-1686389768982&amp;sa=U&amp;ved=2ahUKEwjZiKqYivGCAxVJRmwGHfERCUEQr4kDegQIAhAC&amp;usg=AOvVaw2wvdhZJDedtkyyVtu1REcX\"><div class=\"AlD19d\"> <span class=\"qXLe6d x3G5ab\"> <span class=\"fYyStc\">10 Must-Watch Movies of...</span> </span> <span class=\"qXLe6d F9iS2e\"> <span class=\"fYyStc\">www.zeebiz.com</span> </span> </div></a></td></tr></table></div></div> </div> </div></td><td align=\"center\" class=\"e3goi\"><div class=\"jjVJ4e\"> <div> <div class=\"lIMUZd\"><div><table class=\"RntSmf\"><tr><td><a href=\"/url?q=https://indianexpress.com/article/entertainment/bollywood/salman-khan-says-antim-kisi-ka-bhai-kisi-ki-jaan-flopped-because-of-discounted-prices-ek-toh-acha-karo-9046662/&amp;sa=U&amp;ved=2ahUKEwjZiKqYivGCAxVJRmwGHfERCUEQqoUBegQIAxAB&amp;usg=AOvVaw1a7B_9mPVzZILrHXgM4Hp3\"><div class=\"kCmkOe\"><img alt=\"\" class=\"DS1iW\" src=\"https://encrypted-tbn0.gstatic.com/images?q=tbn:ANd9GcTAZQKCHGCc2Knat5xKdQE8ilUQ__jvBqOE4ImG-gLW9i4HghoxV41ugUv4nQ&amp;s\"/></div></a></td></tr><tr><td><a href=\"/url?q=https://indianexpress.com/article/entertainment/bollywood/salman-khan-says-antim-kisi-ka-bhai-kisi-ki-jaan-flopped-because-of-discounted-prices-ek-toh-acha-karo-9046662/&amp;sa=U&amp;ved=2ahUKEwjZiKqYivGCAxVJRmwGHfERCUEQr4kDegQIAxAC&amp;usg=AOvVaw2EZP8-KYraGT1ReKm1WANg\"><div class=\"AlD19d\"> <span class=\"qXLe6d x3G5ab\"> <span class=\"fYyStc\">Salman Khan says Antim,...</span> </span> <span class=\"qXLe6d F9iS2e\"> <span class=\"fYyStc\">indianexpress.com</span> </span> </div></a></td></tr></table></div></div> </div> </div></td><td align=\"center\" class=\"e3goi\"><div class=\"jjVJ4e\"> <div> <div class=\"lIMUZd\"><div><table class=\"RntSmf\"><tr><td><a href=\"/url?q=https://images.dawn.com/news/1191681&amp;sa=U&amp;ved=2ahUKEwjZiKqYivGCAxVJRmwGHfERCUEQqoUBegQIABAB&amp;usg=AOvVaw02Db3nLexspdvB8tMqPjPl\"><div class=\"kCmkOe\"><img alt=\"\" class=\"DS1iW\" src=\"https://encrypted-tbn0.gstatic.com/images?q=tbn:ANd9GcQgG0Sz3xBsHFgjyzVHqbcV2Xvbg62Gekw41FmZBgoHSWGM991-40E8On7C1_0&amp;s\"/></div></a></td></tr><tr><td><a href=\"/url?q=https://images.dawn.com/news/1191681&amp;sa=U&amp;ved=2ahUKEwjZiKqYivGCAxVJRmwGHfERCUEQr4kDegQIABAC&amp;usg=AOvVaw0-46u7gP2MIkb4avU3aLKM\"><div class=\"AlD19d\"> <span class=\"qXLe6d x3G5ab\"> <span class=\"fYyStc\">Salman Khan wants...</span> </span> <span class=\"qXLe6d F9iS2e\"> <span class=\"fYyStc\">images.dawn.com</span> </span> </div></a></td></tr></table></div></div> </div> </div></td><td align=\"center\" class=\"e3goi\"><div class=\"jjVJ4e\"> <div> <div class=\"lIMUZd\"><div><table class=\"RntSmf\"><tr><td><a href=\"/url?q=https://www.ndtv.com/entertainment/emraan-hashmi-doesnt-call-salman-khan-bhai-heres-why-4606115&amp;sa=U&amp;ved=2ahUKEwjZiKqYivGCAxVJRmwGHfERCUEQqoUBegQIBhAB&amp;usg=AOvVaw3WSfLETodo9LBQdZ6tIccP\"><div class=\"kCmkOe\"><img alt=\"\" class=\"DS1iW\" src=\"https://encrypted-tbn0.gstatic.com/images?q=tbn:ANd9GcR9Q8s9z7qDyb8Qj7Uc3360Y7Djg5mfkQoIKegvNIQpelpNKZOLKPjMOP9w&amp;s\"/></div></a></td></tr><tr><td><a href=\"/url?q=https://www.ndtv.com/entertainment/emraan-hashmi-doesnt-call-salman-khan-bhai-heres-why-4606115&amp;sa=U&amp;ved=2ahUKEwjZiKqYivGCAxVJRmwGHfERCUEQr4kDegQIBhAC&amp;usg=AOvVaw0An5J6jtojHRWM976ZQB1l\"><div class=\"AlD19d\"> <span class=\"qXLe6d x3G5ab\"> <span class=\"fYyStc\">Emraan Hashmi Doesn't Call...</span> </span> <span class=\"qXLe6d F9iS2e\"> <span class=\"fYyStc\">www.ndtv.com</span> </span> </div></a></td></tr></table></div></div> </div> </div></td></tr></table></div><table class=\"uZgmoc\"><tbody><td><a class=\"frGj1b\" href=\"/search?q=salman+Khan&amp;sca_esv=587298166&amp;biw=1083&amp;bih=694&amp;ie=UTF-8&amp;tbm=isch&amp;ei=y05rZZn3BcmMseMP8aOkiAQ&amp;start=20&amp;sa=N\">Next &gt;</a></td></tbody></table><br/><div class=\"TuS8Ad\" data-ved=\"0ahUKEwjZiKqYivGCAxVJRmwGHfERCUEQpyoIUg\"><style>.VYM29{font-weight:bold}</style><div align=\"center\" class=\"HddGcc\"><span class=\"VYM29\">560024, Bengaluru, Karnataka</span><span> - </span><span>From your IP address</span><span> - </span><a href=\"/url?q=https://support.google.com/websearch%3Fp%3Dws_settings_location%26hl%3Den-IN&amp;opi=89978449&amp;sa=U&amp;ved=0ahUKEwjZiKqYivGCAxVJRmwGHfERCUEQty4IUw&amp;usg=AOvVaw1-Ksl2XjnByEOD6jgmtnyj\">Learn more</a></div><div align=\"center\"><a class=\"rEM8G\" href=\"/url?q=https://accounts.google.com/ServiceLogin%3Fcontinue%3Dhttps://www.google.com/search%253Fq%253Dsalman%252BKhan%2526sca_esv%253D587298166%2526tbm%253Disch%2526sxsrf%253DAM9HkKnJJ3NXLCP3_PLupIcIWyi8mC1MVQ:1701527759596%2526source%253Dlnms%2526sa%253DX%2526ved%253D2ahUKEwjmqL7t_PCCAxWcxzgGHS02AgAQ_AUoAnoECAMQBA%2526biw%253D1083%2526bih%253D694%2526dpr%253D1.25%26hl%3Den&amp;opi=89978449&amp;sa=U&amp;ved=0ahUKEwjZiKqYivGCAxVJRmwGHfERCUEQxs8CCFQ&amp;usg=AOvVaw1KCz18wl23bLHObiLgP9-t\">Sign in</a></div><div><table class=\"bookcf\"><tbody class=\"InWNIe\"><tr><td><a class=\"rEM8G\" href=\"https://www.google.com/preferences?hl=en&amp;sa=X&amp;ved=0ahUKEwjZiKqYivGCAxVJRmwGHfERCUEQv5YECFU\">Settings</a></td><td><a class=\"rEM8G\" href=\"https://www.google.com/intl/en_in/policies/privacy/\">Privacy</a></td><td><a class=\"rEM8G\" href=\"https://www.google.com/intl/en_in/policies/terms/\">Terms</a></td></tr></tbody></table></div></div><div> </div></body></html>"
      ]
     },
     "execution_count": 50,
     "metadata": {},
     "output_type": "execute_result"
    }
   ],
   "source": [
    "soup"
   ]
  },
  {
   "cell_type": "code",
   "execution_count": 51,
   "id": "8642de75-612c-4019-a5d9-1ac0d987ae09",
   "metadata": {},
   "outputs": [],
   "source": [
    "image_tag=soup.find_all(\"img\")"
   ]
  },
  {
   "cell_type": "code",
   "execution_count": 52,
   "id": "1648ad23-520f-4574-885a-9a4e914f3030",
   "metadata": {},
   "outputs": [],
   "source": [
    "del image_tag[0]"
   ]
  },
  {
   "cell_type": "code",
   "execution_count": 53,
   "id": "c40acd0b-dc9a-487d-b692-cc28bfbfb350",
   "metadata": {},
   "outputs": [
    {
     "data": {
      "text/plain": [
       "[<img alt=\"\" class=\"DS1iW\" src=\"https://encrypted-tbn0.gstatic.com/images?q=tbn:ANd9GcSbsz1-RGb3e9PZemgOYkTW4jzmy4fwpDtMgvW93Qs_wAkbhHHfbUt7erMsF4w&amp;s\"/>,\n",
       " <img alt=\"\" class=\"DS1iW\" src=\"https://encrypted-tbn0.gstatic.com/images?q=tbn:ANd9GcRMkQKi5QUhtQkWbcGZF6VxqT6zh6XGLmKxJFhRxjcLmrb0y2cQT5v6anb0bg&amp;s\"/>,\n",
       " <img alt=\"\" class=\"DS1iW\" src=\"https://encrypted-tbn0.gstatic.com/images?q=tbn:ANd9GcQsPJlmB541FlXqTl6rCvD33NhUIj0Myk9e4PujbsHZd7vp5QsNLg9tna6GYxs&amp;s\"/>,\n",
       " <img alt=\"\" class=\"DS1iW\" src=\"https://encrypted-tbn0.gstatic.com/images?q=tbn:ANd9GcQ8WTughNjj6PIIbV4YZpJLfFDHKG0NmE7IsVYkRRGeqdvzT3Z-AlOSTD-aNQ&amp;s\"/>,\n",
       " <img alt=\"\" class=\"DS1iW\" src=\"https://encrypted-tbn0.gstatic.com/images?q=tbn:ANd9GcRQLofYA81BkKDfhFw7aov-SHrJH0oCiDMJgU1uRH1N8lT7PiSpZmEmPXsiui8&amp;s\"/>,\n",
       " <img alt=\"\" class=\"DS1iW\" src=\"https://encrypted-tbn0.gstatic.com/images?q=tbn:ANd9GcR5WVu02Zxz08ydK5B_I4goFf6oKTm2CUWUqpkMRbdUSp-AkJhlLXMTntQ9XA&amp;s\"/>,\n",
       " <img alt=\"\" class=\"DS1iW\" src=\"https://encrypted-tbn0.gstatic.com/images?q=tbn:ANd9GcSASEdHCXblr2sswdeZnBsBT-UFKqLKCKuoU5QSTDL8FoThrLilsvMx_pt4vw&amp;s\"/>,\n",
       " <img alt=\"\" class=\"DS1iW\" src=\"https://encrypted-tbn0.gstatic.com/images?q=tbn:ANd9GcTrTuT8LnytB25HrFY4q7j05mU0uMi9Y6C2fijkj_xqkL2Qm6LvzQnyx29l3l8&amp;s\"/>,\n",
       " <img alt=\"\" class=\"DS1iW\" src=\"https://encrypted-tbn0.gstatic.com/images?q=tbn:ANd9GcQrFfTgp4qfKAcAS5M7eDqsyvG_A2AClQ9Xpo1Ef8E51v5Or-0uR0VNc5DxhA&amp;s\"/>,\n",
       " <img alt=\"\" class=\"DS1iW\" src=\"https://encrypted-tbn0.gstatic.com/images?q=tbn:ANd9GcSuKzon4oIn7-OSb-9iXx3FqqSwfGoodeTfpwLoBGSEtc6umZV6Y7_C26mJx5c&amp;s\"/>,\n",
       " <img alt=\"\" class=\"DS1iW\" src=\"https://encrypted-tbn0.gstatic.com/images?q=tbn:ANd9GcSsbLlp_260Fgk2Zp5KKBrBDSyEVT5ikjCr7F9ZuOaFFkcw-HI0I9mbeg3jNVg&amp;s\"/>,\n",
       " <img alt=\"\" class=\"DS1iW\" src=\"https://encrypted-tbn0.gstatic.com/images?q=tbn:ANd9GcRY4j_7Ieu3KSJzC688_SSuFt07U-FlPj9RPezR5QtUBifX7vgjqaMJ_juBew&amp;s\"/>,\n",
       " <img alt=\"\" class=\"DS1iW\" src=\"https://encrypted-tbn0.gstatic.com/images?q=tbn:ANd9GcQBqZEKU_lrmUszIClVhEbd5hZkbrUGWGI3pt8arhFqQF4h2eSmPfoOaWoNnHo&amp;s\"/>,\n",
       " <img alt=\"\" class=\"DS1iW\" src=\"https://encrypted-tbn0.gstatic.com/images?q=tbn:ANd9GcRHb8uj7oDulIn9AV1wMaCSJebiEdVTnNhgqWjH5XWk8thz29EcB_9iOgWghBc&amp;s\"/>,\n",
       " <img alt=\"\" class=\"DS1iW\" src=\"https://encrypted-tbn0.gstatic.com/images?q=tbn:ANd9GcRrE3ggqQf0Dk5Zz67AiF1onqARozMUm44hc92SLCBAQ8bAGTEhqlFiS9sfeA&amp;s\"/>,\n",
       " <img alt=\"\" class=\"DS1iW\" src=\"https://encrypted-tbn0.gstatic.com/images?q=tbn:ANd9GcQ81VvyCO9semI4_M7yp_fOCQQEDrJ8yxn7nrvEYgB-NmC3LFOZVxlrtmvn9lU&amp;s\"/>,\n",
       " <img alt=\"\" class=\"DS1iW\" src=\"https://encrypted-tbn0.gstatic.com/images?q=tbn:ANd9GcQFK9WTG1XDdWap_7HpvzHMzb85UqaEa24dUD-NcxSzXPdRT9-RGOGAOioCaCc&amp;s\"/>,\n",
       " <img alt=\"\" class=\"DS1iW\" src=\"https://encrypted-tbn0.gstatic.com/images?q=tbn:ANd9GcTAZQKCHGCc2Knat5xKdQE8ilUQ__jvBqOE4ImG-gLW9i4HghoxV41ugUv4nQ&amp;s\"/>,\n",
       " <img alt=\"\" class=\"DS1iW\" src=\"https://encrypted-tbn0.gstatic.com/images?q=tbn:ANd9GcQgG0Sz3xBsHFgjyzVHqbcV2Xvbg62Gekw41FmZBgoHSWGM991-40E8On7C1_0&amp;s\"/>,\n",
       " <img alt=\"\" class=\"DS1iW\" src=\"https://encrypted-tbn0.gstatic.com/images?q=tbn:ANd9GcR9Q8s9z7qDyb8Qj7Uc3360Y7Djg5mfkQoIKegvNIQpelpNKZOLKPjMOP9w&amp;s\"/>]"
      ]
     },
     "execution_count": 53,
     "metadata": {},
     "output_type": "execute_result"
    }
   ],
   "source": [
    "image_tag"
   ]
  },
  {
   "cell_type": "code",
   "execution_count": 54,
   "id": "37a94645-b968-4bac-9777-680c981690ff",
   "metadata": {},
   "outputs": [
    {
     "data": {
      "text/plain": [
       "20"
      ]
     },
     "execution_count": 54,
     "metadata": {},
     "output_type": "execute_result"
    }
   ],
   "source": [
    "len(image_tag)"
   ]
  },
  {
   "cell_type": "code",
   "execution_count": 55,
   "id": "1999136a-391e-42fb-b133-6211a1a86070",
   "metadata": {},
   "outputs": [
    {
     "data": {
      "text/plain": [
       "b'\\xff\\xd8\\xff\\xe0\\x00\\x10JFIF\\x00\\x01\\x01\\x00\\x00\\x01\\x00\\x01\\x00\\x00\\xff\\xdb\\x00\\x84\\x00\\t\\x06\\x07\\x08\\x07\\x06\\t\\x08\\x07\\x08\\n\\n\\t\\x0b\\r\\x16\\x0f\\r\\x0c\\x0c\\r\\x1b\\x14\\x15\\x10\\x16 \\x1d\"\" \\x1d\\x1f\\x1f$(4,$&1\\'\\x1f\\x1f-=-157:::#+?D?8C49:7\\x01\\n\\n\\n\\r\\x0c\\r\\x1a\\x0f\\x0f\\x1a7%\\x1f%77777777777777777777777777777777777777777777777777\\xff\\xc0\\x00\\x11\\x08\\x00\\x8c\\x00b\\x03\\x01\"\\x00\\x02\\x11\\x01\\x03\\x11\\x01\\xff\\xc4\\x00\\x1b\\x00\\x00\\x01\\x05\\x01\\x01\\x00\\x00\\x00\\x00\\x00\\x00\\x00\\x00\\x00\\x00\\x00\\x06\\x00\\x03\\x04\\x05\\x07\\x02\\x01\\xff\\xc4\\x00;\\x10\\x00\\x02\\x01\\x03\\x02\\x03\\x04\\x06\\x07\\x08\\x03\\x01\\x00\\x00\\x00\\x00\\x01\\x02\\x03\\x00\\x04\\x11\\x05!\\x06\\x121\\x13\"AQ2aq\\x81\\x91\\xa1\\x14\\x16BRS\\x92\\xc1\\x07#3Db\\xb1\\xd1\\xf0\\x15C\\xe1$\\xff\\xc4\\x00\\x19\\x01\\x00\\x03\\x01\\x01\\x01\\x00\\x00\\x00\\x00\\x00\\x00\\x00\\x00\\x00\\x00\\x00\\x02\\x03\\x04\\x01\\x00\\x05\\xff\\xc4\\x00&\\x11\\x00\\x02\\x02\\x02\\x01\\x04\\x02\\x02\\x03\\x01\\x00\\x00\\x00\\x00\\x00\\x00\\x00\\x01\\x02\\x11\\x03!\\x12\\x04\\x131Q\\x14A\"R2Sq#\\xff\\xda\\x00\\x0c\\x03\\x01\\x00\\x02\\x11\\x03\\x11\\x00?\\x00u8kT_\\xe5\\xc7\\xe6\\xa7>\\xafjC\\xf9c\\xf1\\xa2d\\xe2\\x19\\x0f\\xfd#\\xe3O.\\xbe\\xdf\\x83\\xf3\\xaay\\xe3\\xf6g\\xc7\\xcb\\xe8\\x11}\\x03R\\x1f\\xca\\xb7\\xc4S\\x12h:\\x92\\xa9&\\xd1\\xc0\\x1b\\x93\\x91\\xb5\\x18]qe\\xad\\x8c\\r=\\xfa\\xf6P\\xafS\\xd4\\x9fP\\x1e&\\xb3\\x0e1\\xe3\\x9b\\xfd[\\x9d$Ski\\xcf\\xfb\\xbbp\\xc7\\xbc\\x9enT\\xe1\\x8e|:\\x0f\\x9d\\x0c\\xf2\\xc1-\\x18\\xb0\\xcd:d;\\xcd^\\xd6\\x19\\x9a$\"G^\\xa40\\n\\x0f\\xb7\\xc7\\xddU\\x92q\\r\\xda\\xb1ha\\x84(\\xf0\\xc1o\\x9ej\\xab\\xe9\\xa5\\x80\\xc8\\x00sg\\x98\\x0e\\x86\\x9f\\xec\\xe7\\xcfi\\x0b\\x86\\xc8\\xc1R\\xb53\\x94\\xe5\\xb69F+\\xc0W\\xa1j\\xdfJBn\\xe3\\xe4\\xc7\\x8ax{\\xbc\\xbd\\x95wv\\xdfE\\x87\\xb6\\x90\\x03\\x11b\\x11\\x94\\xe4\\xb6:\\xedY\\xc4W\\x8d\\x1b\\xa7d\\n\\x11\\x87\\\\\\x9fD\\xae|=\\xd5n\\xda\\x9b\\x1b\\x08P\\xc6\\x93/ %]\\xcf\\x8f]\\xa8;\\x99b\\xfd\\x87\\xdb\\xc7%\\xe8\\xd18\\x0bU\\xb0\\xb8\\xd5\\x8a\\xa4\\xea\\xac\\xcb\\x85\\x0f\\xdd,}Y\\xebV\\xdcEk4\\x9a\\x8c\\x85\"r07\\x0bX[\\xcd\\x83\\xda*\\xb2a\\xb9\\x82\\xa9\\xd9Nv9\\x15\\xac\\xf0\\x07\\xed\\x129\\xad\\x06\\x9d\\xae9{\\x88\\xc7\\xeen1\\x9e\\xd5<\\x8f\\xf5\\x0f\\x98\\xc7\\x8ei\\xf0\\x9fqq\\x90\\x0b\\xfe2\\xe7\\x11\\xe5\\xb2\\xb8\\x07\\xf8\\x12~Zym.?\\x02O\\xcbD\\x7f[t\\xa1\\xe2\\xdf\\x96\\xba\\x1cY\\xa5\\xf9\\xb7\\xe5\\xa3\\xec/f\\xbe\\xbe_\\xa8;\\xf4I\\xff\\x00\\x05\\xff\\x00-*$\\xfa\\xd5\\xa5\\xf9\\xb7\\xe5\\xa5[\\xd8F|\\xe7\\xfa\\x83\\xb1\\xa6\\xd4\\xe3\\x00\\xaaKl\\x06\\xe6\\xbaA\\x8a\\xa2\\xe3\\xab\\xe7\\xb1\\xe1\\xe9\\xbb\\x02\\x16Y\\xcfd\\xac|\\x01\\xceO\\xc0\\x1f\\xef\\xe1H-\\x93\\xad\\x81|_\\xc4\\xb6\\x9a\\xcc\\x8bko\\x04\\x92[\\xc2\\xf9\\x12\\x92W\\x9d\\xbam\\xea\\xde\\x86%\\x8c\\xca\\xcc\\x11Yq\\xb8\\xe7n\\x9e\\xdaH\\xcc\\xe7\\xb2\\x12\\x0eD\\x1b\\x01\\x9e_n\\xf4\\xb2\\x0c\\xd9\\x19\\xe5 \\xa3\\x7f\\xbe4)}\\xb29\\xcd\\xc9\\x9dA\\x01\\x0e\\xb1\\x81\\x92\\xde\\x92\\xff\\x00\\xe5:\\xd3\\xbc8H\\xf9\\x83\\xa6\\xc4\\x13\\xd7>\\x15\\xdaX\\xdcG\\x19f\\xc6\\x11I>;\\x159\\xf6\\x8e\\xe8\\xaf\\x16\\x17eY\\x08\\x1c\\xae\\x06\\x1b\\xc5Xo\\x8f\\x86h\\xad\\x03Lj\\xe1\\xcd\\xcd\\xceY\\xbd\\x10\\xbc\\xc7\\x1b\\x9f?}>-#1\\x12\\x1eNoK\\x94\\xe3\\'\\xdb\\xe5L\\xc9\\x04\\xcf3\\\\(+\\x96b\\x0889\\xce6\\xf2\\xdc\\xd20\\xcb\\x12\\xc6\\x92\\x87g|\\xb3\\x02<\\xbeu\\xda;t;)\\x84\\xc4C#\\x0c\\r\\xb3\\xbf\\xfa*,Nm\\xa4Y \\'\\xb4\\x8d\\xb9\\x93~\\xa3\\xca\\x91\\x0e\\xc9\\x8f\\xea\\xee\\x83\\xbf\\xce\\xb8\\x8dy\\xcb\\x10\\xa4\\xe3|z\\xfch\\x14\\\\B\\xb4\\xcd7O\\xb8K\\xeb8nc\\xe9\"\\xe7\\x7f\\x03\\xe2*b\\xa5S\\xf0\\x18\\x89\\xec\\xbe\\x8e\\xe4\\xf3\\x06\\'\\x07\\xa8\\xc9\\xa3!\\xa7\\xc2:f\\xa9Y\\xa2\\x0f\\xc3\\xc8\\xf6\\x8a\\x9eZUm\\xf48~\\xeb|iQwb\\x0f\\xc4\\xc8L\\x0b\\xb5\\x06\\xfe\\xd3\\x18\\xc7aj\\xe7\\x061)\\x1c\\xa4d\\x96\\xc6}\\xdd(\\xd9\\x94\\xa1\\xe5a\\x83\\xe5A\\x9f\\xb5(\\x11\\xb4Ky\\x8f7:\\\\\\x00\\xb8\\xc7\\x8a\\xb7\\xf8\\xa9\\xdf\\x82\\xe9\\xff\\x00\\x16e\\xb0\\xc8\\xab1\\xd8\\x80~TE\\xa0hGP\\x97\\x981\\xe4\\xce\\xe4\\x8a\\xa1\\xb2\\xb6i\\xefc\\x8b\\x19,\\xd5\\xab\\xe8\\x96igl\\x88:\\x8f\\x1aVI\\xd2\\x13\\x8a\\x1c\\x99.\\xd3\\x86\\xad\\x0c*\\x8c9\\x89@\\xa7\\'\\xa8\\x1d?\\xb9\\xa96\\xbc!\\xa6\\xc5\\x18B\\x8a\\xc0\\x1d\\xb3\\xb9\\xab\\x0b<\\x85\\xc8\\xea*g1\\x1d~U*\\x9b\\xf6W\\xc2%\\\\\\x9c7\\xa6\\x88\\x95Lk\\xdd\\xf4\\x7f\\xa4y|\\xa8sZ\\xd0#\\x0eg\\x87 \\xa2r\\xe4yy|3F\\xb2\\xb6F7\\xf7\\xd4K\\xb8\\xc4\\x91\\x95\\xc7t\\xf5\\xa1sv\\x12\\x84Z\\xaa1;\\xa8V\\x1b\\x82\\x8a\\xa1H\\x90\\xf2\\x83\\xf2\\xc5AB#\\x05\\x03\\x10\\xfd1\\xc9\\x9c\\x9d\\xc1\\x19\\xa2^8\\xb1{;\\xb5p\\xb9\\x89\\xb2A\\x1et&\\x8cD\\x81\\xc3\\x90E\\\\\\x9d\\xc6\\xcf=\\xc5\\xc6T\\x17\\xf0L\\xd2Z_\\x94`{Nl\\x95=EiB\\xf2b\\x7f\\x83\\xe1YV\\x8b4\\xd0\\xdfGu\\xccw\\xf4\\x99\\x9b\\'\\xdf\\xeb\\xcdl\\x10\\xb4RZ\\xc5*H\\xa42\\x82H5\\xb0kz)JN\\x0b\\xf2\\xa2?\\xd2e\\xfc\\x1aU<<8\\x1d\\xe1^\\xd3y/Fv\\xe5\\xfd\\x87s\\xc4\\xcb \\xdf\\x987CC\\xdcm\\xa2M\\xaah\\x8f\\x14y\\xedc=\\xaa.3\\xce@\\xe9\\xf0&\\x88\\xfbeDDV-\\xcaz\\x9a\\xf2\\xee\\xe7\\xb6\\\\c\\xa5)7\\xe0\\xe5\\xbd\\x18\\x97\\x0e\\xd8\\xbd\\xbf\\x10\\xf6\\x13.\\x1a5-\\x82(\\xe4Mt\\x1f\\xff\\x00\\x9d#\\xe5N\\xa6C\\x8c\\xfb*!\\xb6\\x11q\\x979\\x03\\xf7\\xb0\\x16\\x1e\\xec\\xe7\\xf4\\xa9\\xd7zk\\xbd\\xec7\\x13\\xa3M\\x1a\\x1c\\xa4Dw=\\xa4t5>F\\x9c\\xb6l\"\\xe2\\x9d\\x0fi\\xdcQ\\x12La\\xba\\x81\\xa3b0\\x1b\\xec\\x9f\\x7fJ!:\\x8c-f.\\x80\\xca\\x03\\x8c\\x8e\\x94/\\x06\\x87en\\xac\\xebk\\'x\\xe4\\x99\\x1c`\\x0c\\xe7\\x00b\\xaem`\\xectn\\xc3\\x97\\x94\\x1e\\xf6\\x0f\\xae\\x97>+\\xc0\\xdcjOL\\x81/\\x12\\xdcMq\\xd8Cj\\x02o\\x99\\x99\\xb0\\xb8\\xf0&\\x9e\\x8e\\xeeGS\\xd9\\xdeEp\\x01\\xef*}\\x9a\\xeb\\xfe)Z9\\x10\\xda#\\xc52\\x14a\\x9e\\x9e\\xcf*j\\xd3\\x87a\\xb7*`\\x83\\xb1d\\xce\\x181$\\xe7\\xcf\\xce\\xbaJ5fG\\x92\\x95\\x10\\xb8\\xabN[\\xfd*@\\x07yW\\x98m\\xe5Yn\\x9e\\xac.\\xb2\\x15\\x99T\\xfa\\n\\xe4\\x13[m\\xf2\\x08\\xb4\\xf9\\x91\\xb7!\\r\\x0bp\\xd7\\x0eY\\x14\\x93U\\x9aA\\x8ei\\x08\\x88\\xa0\\xd8\\x03\\xd6\\x8f\\x1c\\xff\\x00\\x06\\x80\\xcb\\x8e\\xe6\\x98&\\xdc\\xa2\\x16*\\x813\\xd4g?\\x13F\\xbc5+>\\x9b\\x1eI\\x00xf\\x81\\xecbk\\xcb\\xc5Q\\x9c3g\\x15\\xa3\\xd9@\\x96\\xf0\" \\x00\\x01Vt\\xb0j\\xd9\\x1fW\\x95I$\\x97\\x82p\\x8b \\x1en\\xb4\\xab\\x8ec\\xe7J\\xac\\xa6E\\xca>\\x82\\xcf\\xf8\\x1b\\x8f\\xbe\\xa6\\xb9m\\x06\\xe4\\x8fIj\\xbcq5\\xf0\\xf0J_Z\\xafG\\xd8O\\x8d/\\xb4\\x87\\xfc\\xbc\\x857\\x11h\\xf2Xkz}\\xcc\\x84\\x1ed\\x91\\x0e=c\\xaf\\xcb\\x1e\\xfa\\x9dh\\xeb\"\\x80\\xdc\\xa7\\xda)\\x9dcT\\x97W\\x88<\\xd1\\x80\\xd6\\xa0\\xc8\\xa4\\x1f\\r\\x81\\x15Ykp\\xc5\\xf2\\xad\\x95;\\xed^wQ\\x85\\xa9\\x97\\xf4\\xf9\\xb9\\xc3~K\\xab\\x85B;\\xcc\\xa3$m\\xf7\\xbdU:[uk^w\\x19\\x0c7&\\x83u\\xedr\\xd6\\x19\\x041\\x8e\\xded\\xce\\x00>\\x89\\xc5B\\x8f\\x88/\\xda\\xd6\\x18\\xdd\\xcb\\xb30\\\\\\x13\\xdd;\\x12\\x0f\\x9f\\x85+\\xb4\\xe49eQ\\x0e\\xac\\x9d;#\\x18\\x91\\x1c\\x03\\x9c\\xa9\\xce=T\\xfc\\xac\\x8b\\x1ft\\xe1\\xa83I\\xe2X\\xe2`\\x97\\xb1\\xaav\\x80~\\xf1F9\\xbdf\\x88$\\x98:#\\xc2\\xfc\\xe8\\xfd\\x18\\x1d\\x8d\\x0b\\x8bJ\\x83\\xe4\\x9b\\xb41~\\xc3\\xb1\\x93\\x9b\\xa6\\x0ej\\xbe\\xea\\xd4\\xc5\\xc2\\x8f\\x0e\\x9e\\xbf\\xbd\\x960\\x8b\\x93\\xd47S\\x9ffk\\xbd^\\xf1b\\xb6a\\x91\\x9eS\\xb7\\x9d\\n\\xe9Z\\xbd\\xed\\xbafV\\xedQW\\x08\\x1c\\xfa>\\xcfUlc\\xa4\\xd9\\x92\\x95\\xbaE\\x97\\x06\\xf0~\\xa6\\xd7\\x0f#\\xc2\\x98Q\\xb6M\\x19}Y\\xd4\\xff\\x00\\x05\\x7f5u\\xc2\\x1a\\xe4\\xebb\\xd2\\xb4+\\xde5}\\xf5\\x8e_\\xc1_\\x8dzx\\xf2%\\x15G\\x99\\x97\\xa5\\xca\\xe5\\xa4P}[\\xd4\\xff\\x00\\t\\x7f5*\\xbf\\xfa\\xc7/\\xe0\\xaf\\xc6\\x953\\xba\\x85|L\\xbe\\x80\\xc27\\xaeYO\\xdd5*X\\xfb9\\xc0\\xc6\\xdc\\xd5%\\x88\\xe6\\xe8(\\xa5*\\x06\\x18y6\\x99\\xcf\\x0c@\\xb3\\xeam\\x14\\x83*\\xd1\\x90A\\x14\\x13xf\\xd2o\\xaft\\xd6\\x9b\\r\\x174jO\\x97\\x81\\xfe\\xd5\\xa0p\\x98\\xce\\xb8\\xfe\\xa4\\xa0\\xff\\x00\\xdau\\x8b}:k\\xe8\\x06\\x1d[\\r\\xeb\\x02\\x91\\xd4n(\\x7fK\\x17rK\\xe8\\xa5\\xd3\\xb4G\\xe4\\xfaL\\xa7\\x95el\\x00\\xdb\\x91\\xed\\xf2\\xa2X\\xb4\\xa8\\xda\\xd8\\x06\\x98\\xae~\\xcf.>d\\xd4m\\x12\\xe2\\x1b\\xdd\\x05\\x14\\xca\\xa8\\xcc\\x98\\'\\xcb\\xdd\\xee\\xa8V\\x9aD\\x8c\\xc1\\x96\\xe6V\\x83\\xd18\\x1e\\x04\\xedQ\\xf2m\\xb2\\xd8\\xb5\\x14\\xb5e\\x9a\\xf0\\xccW\\x11\\xc8\\xc9+0\\xc6\\xc7\\xec\\xe4Tk{\\x86\\xd2\\xac\\x1a\\x06bYe8O\\xb8:|?\\xcd\\x13\\xc3we\\r\\x8a\\x84\\x94\\x05U\\x1b1\\xdcVk{w-\\xde\\xadu\\x05\\x99\\xed;S\\x84P||hb\\xdc\\xb4\\xcd\\xc9I\\xda$\\xc1s6\\xab\\xa9\\x88FL@\\xf7\\xbd@SS\\xb2\\xda\\xcfq\\x03?<\\x06R\\xa9\\x81\\x9c\\x7f\\xa75h\\xd6\\xf1p\\xfd\\x83/8{\\xe9\\xc6\\xee~\\xca\\xd0\\xd4\\x92\\xf6\\xb3g \"o\\xbfBhRs\\x9d}\\x0cU\\x8f\\x1f7\\xe4\\xd4\\xb4\\x04O\\xf8\\xc8\\xfb=\\xc7/\\x85N+\\xbd\\x04p~\\xbe\\xb6\\x12\\x8b+\\xdeo\\xa2\\xc8p\\xb2u\\xec\\x98\\x9f\\x98\\xa3\\xd6B\\xbdF*\\xb5\\xad\\x03\\x0c\\x8a{\\x1a\\xe5\\xa5OR\\xad\\x08\\x8dq\\x08r1\\xe9\\x03\\x9ao\\x97\\xbf\\xbf\\x95v$/\\x86\\x1e5\\x1a\\xf6\\xf6\\xda\\xc5;[\\xa9\\x960z\\x02w>\\xeak\\xb4\\xb6F\\xb8\\xb9rE\\x8f\\n\\x00\\xba\\xc4\\xccH\\n\\xa8I\\'`++\\xfd\\xa3qR\\xea\\x9a\\x94\\xb6zt\\x9c\\xd6\\x82C\\x97\\x1f\\xf6\\x1f?eK\\xe2n)ak=\\xbd\\x81h\\xd2\\xe0r\\xc8\\xc7b\\xcb\\xe5\\xea\\x15\\x9e3\\x1e\\xd4\\xb19&\\x86RSt\\xbc\\x1b\\x8b\\x1b\\xc7m\\xf9e\\xe6\\x95\\x15\\xd9\\xd3\\xcd\\xdd\\xa9i\\x129J\\xc9\\x10\\xeb\\xb0\\x07#\\xdd\\x8a\\x90x\\x86\\xec\\xf717(\\xfb \\x1d\\xaa\\x7f\\x05DWM\\x95\\x0e\\xe6f2(\\xf6m\\xfaQM\\x84\\x163\\x8ei\\xa0\\x8b\\xb5^\\xbc\\xc0f\\xa6r\\xfc\\x9d\\xa0\\xdc-Z`:]jw\\xf8\\xb5\\xb2\\x8a^f\\xdb\\xa7\\x86h\\xabI\\xd3\\xe0\\xe1m,\\xdc\\xde*\\xb5\\xec\\x9b`\\x1e\\xa4\\xfd\\x91V\\xafqea\\x14\\x93\\xaa\\xa4q\\xc6\\x0b3\\xaa\\xef\\xee\\xa0\\xdd[U}JSw!\\xee\\xf4\\x89A\\xc8U\\xfdO\\x99\\xae\\x94\\xad\\x05\\x8b\\x15\\xcbc\\x1a\\xa5\\xf4\\xb72\\xbc\\x92\\xb74\\xaew\\xf5y\\x01Q\\xe2%\\x13\\x04\\xb0\\xce\\xe7#\"\\xa3\\xc5\\x99f;s\\x01\\xd7\\x15\\'\\x07\\xcd\\xc0\\xf5\\xef\\xb5\\x1e\\x18\\xea\\xd8=^K\\x92\\x8a\\xfa:f\\xc2\\x120I\\xcf\\xa2\\x7fJ\\xb5\\xd2\\xf8\\xb7R\\xd3\\x1d\"\\x92_\\xa4\\xc0\\x06\\xf1\\xccI\\xc0\\xf5\\x1e\\xa2\\xa8\\xe7%\\x8a\\xaf\\\\\\xef\\x9cSx\\xeaA\\x1d\\xe3\\x81\\xbf\\x856\\x89T\\x9a\\xf0i\\x0b\\xc7\\xdayPM\\xa5\\xd08\\xe8\\x14\\x1f\\xd6\\x95gE\\xd4\\x1c`|)WP\\xdf\\x91 \\xe7S\\xe2\\x91\\x00ht\\xec9=e#e\\xf6P\\x95\\xfd\\xc5\\xc5\\xc7k#\\xc8\\xed)\\x07\\xbc\\xdb\\xefS\\xb5\\x9bF\\xb6\\x94\\xbcc\\x992\\x01>\\xb3\\xd0\\xe3\\xd7\\xd6\\xaa\\x88\\x189\\xe8G\\\\xP\\xb99;`EqTU\\xca$\\x924\\x13\\xc8\\xcc\\xf8\\xc9c\\xbf_\\nc\\xe8\\xdc\\xf2\\xed\\x9eQ\\xbb\\x1a\\xb3k7\\x9ad\\t\\xb0\\xe5\\xc31\\xaf\\x00Fv\\x82\\xdc\\xe7\\x0c\\x17>d\\xedB\\xad\\x17\\xd2q\\x088w\\x9d!\\xb4t\\x18TQ\\xcd\\xb7\\x87J4\\x9bHIUeU\\xca\\xb0\\xdc\\x81Pt\\xbb(\\xa3\\x8daU\\x01\\x00\\x02\\x88\\xed\\xe7\\xec\\xac\\xb07lr\\x8a\\x92R\\xdd\\x9a\\xa1\\xa39\\xe3)E\\xbb\\xdb\\xd8\\x06\\x11\\xa1\\xfd\\xe3\\x93\\xbeq\\xd0P\\x8c9EuR\\xdd\\x9a\\x9d\\xb3\\xd3\\xc6\\x8fx\\xdbLI\\x1e\\xce\\xe2\\xe1\\x8fw\\x98><N\\xc4o\\xf1\\xa1\\x0b\\x80&\\x9cG\\x1ar\\xc2\\x9b`|j\\x9cK\\x94\\x01\\x9f\\xe1\\xb1Z\\xae#\\x03\\x1c\\xcc\\xdb\\x91\\xe5]<\\xc0s\\x84\\x121\\x18\\x04\\x0e\\x83\\xdfHo\\xe1\\xbb\\x1d\\xbc\\xf1]H\\xaa\\xc1\\xb7\\xc6:g\\xc7\\xdfT%G\\x9a\\xdd\\xbbc%\\x8b9v\\x1b\\xe3>\\xca\\xf7\\x1d\\x06vQ\\x9a\\xf0w\\x81\\xdb\\xd2l{\\xa9\\xccs\\x06\\xc6\\x06N\\x00&\\xb4\\xc1\\xb1\\x0eFs\\xd7\\xdb^T\\xee\\xc7\\xd9\\xf9\\xa9WQ\\xd6\\x13H\\x8b\\xa9\\xc0\\xa0\\xafd\\xecBK\\x19\\xdb\\x90\\x8c\\xa9\\xf9\\x8a\\x19\\xe5t%\\\\\\x10\\xeap\\xc0\\x9e\\x84m\\x8a\\xbe\\x9c\\x91\\xab\\x01\\x92E\\xca\\xc8\\xb2\\x0f\\x03\\x84\\x07\\xdd\\xe9\\x9f\\x80\\xf1\\xceku\\xa8\\xd6\\x1dNU\\x8ca{\\xac\\x07\\x96T7\\xf74\\x95\\xe0m\\x95\\xd7\\r\\'`\\xc9n\\xa5\\xa4m\\xb3\\xe4\\xbe\\xdacH\\xb7{{\\xb8\\xfbU \\x86\\x0cs]\\xdc3#\\xa7)#\\r\\x9d\\xbd\\x95`\\x872\\xa9\\xc6\\xe4\\x03C+\\xb2\\xfc\\x15(\\xff\\x00\\x81\\xcd\\x87\\x83\\x1e\\x87\\xc2\\xa5\\xca\\xfd\\x8aw\\x8e\\x06v\\xa8\\xfa~\\xd0F\\x7f\\xa4T]rF\\n\\x8b\\x9d\\x99\\x80?\\n\\x89\\xf9\\xa1\\xf1EO\\x19_\\xa4\\xc9\\x1aDA\\x8dOS\\xf6\\x9f\\xfc\\n\\x13e\\x1d\\xd8\\xd7rz\\xfe\\xb5#\\x88\\xe7v\\xd4V\\x1c\\xe1#A\\x8cz\\xe9\\x96\\x1c\\x8c\\xc0x\\x0f\\x1fe_\\x86<b\\x91\\x17W/\\xa4.l\\x12s\\xb0\\xd9A\\x15\\xcc\\x8f\\xc8\\xaa\\xa39;\\x9d\\xf6\\xaf@\\xc7.6\\x00f\\x9bQ\\xda<\\xc5\\xbc\\x08\\x03\\x14\\xe2\\x13\\xb8c<\\xcb\\xb1\\x18\\x19\\xce<jJ(\\n\\x9d\\xe1\\xbbx\\xa5v#\\x01\\xf6\\'\\xd1\\xf3\\xafX\\x95X\\xc71\\xc6\\xfb\\x1a$\\x81\\xb17/1\\xfe\\x1f_\\xbbJ\\xb8.\\xd9\\xeb\\xf2\\xa5Za\\xff\\xd9'"
      ]
     },
     "execution_count": 55,
     "metadata": {},
     "output_type": "execute_result"
    }
   ],
   "source": [
    "requests.get(\"https://encrypted-tbn0.gstatic.com/images?q=tbn:ANd9GcTrxkrOuNHUIsLTt3ULCq4GEkBJjpnF7BNE54yIYaUJdEM0Y1om031S9aCqBG8&s\").content"
   ]
  },
  {
   "cell_type": "code",
   "execution_count": 56,
   "id": "e827e4c8-43b0-484f-ab28-ba8d4744eee9",
   "metadata": {},
   "outputs": [],
   "source": [
    "save_dir=\"images/\"\n",
    "if not os.path.exists(save_dir):\n",
    "    os.makedirs(save_dir)"
   ]
  },
  {
   "cell_type": "code",
   "execution_count": 57,
   "id": "6ee8e603-9fcc-46f5-9304-abf4bac73fa5",
   "metadata": {},
   "outputs": [
    {
     "name": "stdout",
     "output_type": "stream",
     "text": [
      "0\n",
      "1\n",
      "2\n",
      "3\n",
      "4\n",
      "5\n",
      "6\n",
      "7\n",
      "8\n",
      "9\n",
      "10\n",
      "11\n",
      "12\n",
      "13\n",
      "14\n",
      "15\n",
      "16\n",
      "17\n",
      "18\n",
      "19\n"
     ]
    }
   ],
   "source": [
    "for i in image_tag:\n",
    "    print(image_tag.index(i))"
   ]
  },
  {
   "cell_type": "code",
   "execution_count": 58,
   "id": "4c12eb6c-2e37-4009-b02a-817665826c68",
   "metadata": {},
   "outputs": [],
   "source": [
    "for i in image_tag:\n",
    "    image_url=i[\"src\"]\n",
    "    image_data=requests.get(image_url).content\n",
    "    with open(os.path.join(save_dir,f\"{query}_{image_tag.index(i)}.jpg\"),\"wb\") as f:\n",
    "        f.write(image_data)"
   ]
  }
 ],
 "metadata": {
  "kernelspec": {
   "display_name": "Python 3 (ipykernel)",
   "language": "python",
   "name": "python3"
  },
  "language_info": {
   "codemirror_mode": {
    "name": "ipython",
    "version": 3
   },
   "file_extension": ".py",
   "mimetype": "text/x-python",
   "name": "python",
   "nbconvert_exporter": "python",
   "pygments_lexer": "ipython3",
   "version": "3.10.9"
  }
 },
 "nbformat": 4,
 "nbformat_minor": 5
}
